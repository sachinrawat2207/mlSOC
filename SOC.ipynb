{
 "cells": [
  {
   "cell_type": "markdown",
   "id": "0d95992b",
   "metadata": {},
   "source": [
    "# Self Optimizing clustering(SOC)"
   ]
  },
  {
   "cell_type": "code",
   "execution_count": 63,
   "id": "b24e3b80",
   "metadata": {},
   "outputs": [
    {
     "data": {
      "image/png": "[encoded data removed]",
      "text/plain": [
       "<Figure size 432x288 with 1 Axes>"
      ]
     },
     "metadata": {
      "needs_background": "light"
     },
     "output_type": "display_data"
    },
    {
     "name": "stdout",
     "output_type": "stream",
     "text": [
      "GSI val:  0.363359237608202\n",
      "GSI val:  0.3738854632344397\n",
      "GSI val:  0.35798943717219744\n",
      "GSI val:  0.38851484339703396\n",
      "GSI val:  0.3772970712291373\n",
      "GSI val:  0.3887745092071731\n",
      "GSI val:  0.3743819155882786\n",
      "GSI val:  0.3873548425389545\n",
      "GSI val:  0.3870305639740778\n",
      "GSI val:  0.37989522410488835\n"
     ]
    },
    {
     "data": {
      "image/png": "[encoded data removed]",
      "text/plain": [
       "<Figure size 432x288 with 1 Axes>"
      ]
     },
     "metadata": {
      "needs_background": "light"
     },
     "output_type": "display_data"
    }
   ],
   "source": [
    "import numpy as np\n",
    "import matplotlib.pyplot as plt\n",
    "import matplotlib.image as mpimg\n",
    "from scipy.spatial import distance_matrix as dis\n",
    "from skimage import color\n",
    "import copy as cp\n",
    "\n",
    "\n",
    "def lagrangeint(x,y,k):#Functions that return the coefficient of the polynomial\n",
    "    coeff=0\n",
    "    for i in range(k):\n",
    "        p=np.poly(x[np.arange(k)!=i])\n",
    "        coeff=coeff+y[i]*p/(np.polyval(p,x[i]))\n",
    "    return coeff\n",
    "\n",
    "\n",
    "def GSI(sm):\n",
    "    print('GSI val: ',np.average(sm))\n",
    "\n",
    "    \n",
    "def normalize(data):\n",
    "    dcmin=np.min(data,axis=0)\n",
    "    dcmax=np.max(data,axis=0)\n",
    "    return (data-dcmin)/(dcmax-dcmin)\n",
    "\n",
    "\n",
    "def denormalize(data):\n",
    "    dcmin=np.min(data,axis=0)\n",
    "    dcmax=np.max(data,axis=0)\n",
    "    dt=data*(data-dcmin)+dcmin\n",
    "    \n",
    "    \n",
    "def sm(dt,clustarr,k):\n",
    "    silval=np.zeros(k)\n",
    "    for i in range(k):\n",
    "        p=0\n",
    "        index=np.where(clustarr==i+1)[0]\n",
    "        d1=dt[index]\n",
    "        Nm=len(index)\n",
    "        a=np.sum(dis(d1,d1),axis=1)/(Nm-1)\n",
    "        dist=np.zeros((Nm,k-1))\n",
    "        for j in range(k):\n",
    "            if i!=j:\n",
    "                index1=np.where(clustarr==j+1)[0]\n",
    "                Nk=len(index1)\n",
    "                dk=dt[index1]\n",
    "                dist[:,p]=np.sum(dis(d1,dk),axis=1)/(Nk)\n",
    "                p=p+1\n",
    "        b=np.min(dist,axis=1)\n",
    "        silval[i]=np.average((b-a)/np.max([a,b],axis=0))\n",
    "    return(silval)\n",
    "             \n",
    "\n",
    "def exact_root(coeff):\n",
    "    roots=np.roots(coeff)\n",
    "    c=roots[roots.imag==0]\n",
    "    return c.real[0]\n",
    "\n",
    "\n",
    "\n",
    "# def pmrf(bm,d1,dm):\n",
    "#     p,q=d1.shape\n",
    "#     pm=np.zeros(p)\n",
    "#     div=2\n",
    "#     for i in range(2):\n",
    "#     print(pm)    \n",
    "    \n",
    "def soc(data,n,k):\n",
    "    dt=normalize(data)\n",
    "    p,q=dt.shape\n",
    "    c=np.zeros((k,q))\n",
    "    dm=np.zeros(k)\n",
    "    bm=np.ones(k)   #optimizing factor\n",
    "    \n",
    "    for j in range(n):\n",
    "        clustarr=np.zeros(p,dtype=int)#sets the location\n",
    "        for i in range(k):\n",
    "            indx_0=np.where(clustarr==0)[0]\n",
    "            d1=dt[indx_0]\n",
    "            p1,q1=d1.shape\n",
    "            dm[i]=(1/(2*p1))*np.sum(np.min(d1,axis=1)/np.sum(d1,axis=1))*bm[i]\n",
    "            pmr=np.sum(np.exp(-dis(d1,d1)**2/dm[i]**2),axis=1) ########\n",
    "            c[i,:]=d1[np.argmax(pmr)]\n",
    "            disarray=dis(c[i,:].reshape(1,q1),d1).reshape(p1)\n",
    "            \n",
    "            indx_1=np.where(disarray**2<=dm[i])[0]\n",
    "            clustarr[indx_0[indx_1]]=i+1\n",
    "        \n",
    "        indx_0=np.where(clustarr==0)[0]\n",
    "        d1=dt[indx_0]\n",
    "        disarray=dis(c,d1)\n",
    "        dcmin=np.argmin(disarray,axis=0)\n",
    "        #distributing extra points\n",
    "        for j in range(len(dcmin)):\n",
    "            clustarr[indx_0[j]]=dcmin[j]+1\n",
    "            \n",
    "        silval=sm(dt,clustarr,k)  \n",
    "        GSI(silval)\n",
    "        lagcoeff=lagrangeint(dm,silval,k)\n",
    "        lagcoeff[-1]-=1   #finding the zeros\n",
    "        bm=exact_root(lagcoeff)/dm\n",
    "        d1 = denormalize(data)\n",
    "    coll=np.zeros((p,q))\n",
    "\n",
    "    for j in range(k):\n",
    "        m=np.where(clustarr==j+1)\n",
    "#         if len(data[m]!=0):\n",
    "        coll[m]=c[j,:]\n",
    "    return coll\n",
    "            \n",
    "    \n",
    "\n",
    "k=6#numbers of clusters\n",
    "n=10#No of iteration\n",
    "\n",
    "# l=[[5,6,3],[2,9,7],[4,8,6],[2,1,4]]\n",
    "# dat=np.array(l)\n",
    "# soc(dat,n,k)\n",
    "\n",
    "\n",
    "img = mpimg.imread('p2.jpg')\n",
    "plt.imshow(img)\n",
    "plt.show()\n",
    "dat=color.rgb2lab(img.reshape(-1,3))\n",
    "data=color.lab2rgb(soc(dat,n,k))\n",
    "data=data.reshape(img.shape)\n",
    "plt.imshow(data)\n",
    "plt.show()\n"
   ]
  },
  {
   "cell_type": "code",
   "execution_count": null,
   "id": "92011d1c",
   "metadata": {},
   "outputs": [],
   "source": []
  }
 ],
 "metadata": {
  "kernelspec": {
   "display_name": "Python 3",
   "language": "python",
   "name": "python3"
  },
  "language_info": {
   "codemirror_mode": {
    "name": "ipython",
    "version": 3
   },
   "file_extension": ".py",
   "mimetype": "text/x-python",
   "name": "python",
   "nbconvert_exporter": "python",
   "pygments_lexer": "ipython3",
   "version": "3.8.8"
  }
 },
 "nbformat": 4,
 "nbformat_minor": 5
}
